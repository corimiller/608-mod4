{
 "cells": [
  {
   "cell_type": "code",
   "execution_count": null,
   "id": "39c296f4-f1c9-4077-a406-7b1297762d76",
   "metadata": {},
   "outputs": [],
   "source": [
    "## Cori Miller Project 4"
   ]
  },
  {
   "cell_type": "code",
   "execution_count": 1,
   "id": "a849e921-ba50-462b-8f34-346a3112f634",
   "metadata": {},
   "outputs": [],
   "source": [
    "def modify_elements(items):\n",
    "    \"\"\"\"Multiplies all element values in items by 2.\"\"\"\n",
    "    for i in range(len(items)):\n",
    "        items[i] *= 2"
   ]
  },
  {
   "cell_type": "code",
   "execution_count": 2,
   "id": "2a746922-41ab-43be-a3c8-bbdf8fc67c1f",
   "metadata": {},
   "outputs": [],
   "source": [
    "numbers = [10, 3, 7, 1, 9]"
   ]
  },
  {
   "cell_type": "code",
   "execution_count": 4,
   "id": "afcf1340-fcdd-4672-bf5e-d0c53ae3cc83",
   "metadata": {},
   "outputs": [],
   "source": [
    "modify_elements(numbers)"
   ]
  },
  {
   "cell_type": "code",
   "execution_count": 5,
   "id": "2e654552-f122-403a-9884-dcdbbfd2e3fc",
   "metadata": {},
   "outputs": [
    {
     "data": {
      "text/plain": [
       "[20, 6, 14, 2, 18]"
      ]
     },
     "execution_count": 5,
     "metadata": {},
     "output_type": "execute_result"
    }
   ],
   "source": [
    "numbers"
   ]
  }
 ],
 "metadata": {
  "kernelspec": {
   "display_name": "Python 3 (ipykernel)",
   "language": "python",
   "name": "python3"
  },
  "language_info": {
   "codemirror_mode": {
    "name": "ipython",
    "version": 3
   },
   "file_extension": ".py",
   "mimetype": "text/x-python",
   "name": "python",
   "nbconvert_exporter": "python",
   "pygments_lexer": "ipython3",
   "version": "3.9.7"
  }
 },
 "nbformat": 4,
 "nbformat_minor": 5
}
